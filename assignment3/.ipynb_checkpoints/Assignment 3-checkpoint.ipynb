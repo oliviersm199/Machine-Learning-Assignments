{
 "cells": [
  {
   "cell_type": "code",
   "execution_count": 83,
   "metadata": {
    "collapsed": true
   },
   "outputs": [],
   "source": [
    "import pandas as pd\n",
    "import sklearn as sk\n",
    "import numpy as np\n",
    "import matplotlib.pyplot as pyplot\n",
    "import csv\n",
    "import functools \n",
    "import nltk\n",
    "import random\n",
    "from collections import Counter\n",
    "from sklearn.metrics import f1_score, make_scorer\n",
    "from sklearn.model_selection import GridSearchCV\n",
    "from sklearn.model_selection import PredefinedSplit\n",
    "from sklearn.naive_bayes import BernoulliNB, GaussianNB\n",
    "from sklearn.tree import DecisionTreeClassifier\n",
    "from sklearn.svm import LinearSVC"
   ]
  },
  {
   "cell_type": "markdown",
   "metadata": {},
   "source": [
    "### Loading Datasets "
   ]
  },
  {
   "cell_type": "code",
   "execution_count": 2,
   "metadata": {
    "collapsed": true
   },
   "outputs": [],
   "source": [
    "imdb_df_train = pd.read_csv('./hwk3_datasets/IMDB-train.txt', delimiter=\"\\t\", header=None)\n",
    "imdb_df_test = pd.read_csv('./hwk3_datasets/IMDB-test.txt',   delimiter=\"\\t\",   header=None)\n",
    "imdb_df_valid = pd.read_csv('./hwk3_datasets/IMDB-valid.txt', delimiter=\"\\t\", header=None)\n",
    "\n",
    "yelp_df_train = pd.read_csv('./hwk3_datasets/yelp-train.txt', delimiter=\"\\t\", header=None)\n",
    "yelp_df_test = pd.read_csv('./hwk3_datasets/yelp-test.txt',   delimiter=\"\\t\",  header=None)\n",
    "yelp_df_valid = pd.read_csv('./hwk3_datasets/yelp-valid.txt', delimiter=\"\\t\",header=None)\n",
    "\n",
    "imdb_df_train.columns = ['review','rating']\n",
    "imdb_df_test.columns = ['review','rating']\n",
    "imdb_df_valid.columns = ['review','rating']\n",
    "yelp_df_train.columns = ['review','rating']\n",
    "yelp_df_test.columns = ['review','rating']\n",
    "yelp_df_valid.columns = ['review','rating']\n"
   ]
  },
  {
   "cell_type": "markdown",
   "metadata": {},
   "source": [
    "### Helper Functions for Preprocessing"
   ]
  },
  {
   "cell_type": "code",
   "execution_count": 3,
   "metadata": {
    "collapsed": true
   },
   "outputs": [],
   "source": [
    "tokenizer = nltk.tokenize.RegexpTokenizer(r'\\w+')\n",
    "\n",
    "def preprocessor(review):\n",
    "    '''\n",
    "    Tokenizer using a regular expression to remove punctuation.\n",
    "    Also lowercases all of the words in a review.\n",
    "    '''\n",
    "    return [word.lower() for word in tokenizer.tokenize(review)]\n",
    "    \n",
    "def create_vocab_text(df,file_name):\n",
    "    '''\n",
    "    Generates the <DatasetName>-vocab.txt file as\n",
    "    specified by the assignment 3 guidelines. \n",
    "    '''\n",
    "    df['tokenized_review'] = df['review'].apply(preprocessor)\n",
    "    cnt = Counter()\n",
    "    for review in df['tokenized_review']:\n",
    "        for word in review:\n",
    "            cnt[word] += 1\n",
    "    del df['tokenized_review']\n",
    "    most_common_ten_thousand = cnt.most_common(10000)\n",
    "    with open(file_name,'w') as file_writer:\n",
    "        writer = csv.writer(file_writer, delimiter=\"\\t\")\n",
    "        for i in range(10000):\n",
    "            writer.writerow([most_common_ten_thousand[i][0],i,\n",
    "                             most_common_ten_thousand[i][1]])\n",
    "\n",
    "def get_word_dict_from_file(file_path):\n",
    "    '''\n",
    "    Generates a dictionary of words from the assignment\n",
    "    which has the following key, value pair: word -> id \n",
    "    '''\n",
    "    WORD_DICT = {}\n",
    "    with open(file_path) as vocab_file:\n",
    "        entries = [line.strip().split(\"\\t\") for line in vocab_file]\n",
    "        for word, id_word, count in entries:\n",
    "            WORD_DICT[word] = id_word\n",
    "    return WORD_DICT\n",
    "\n",
    "def words_to_ids(text,word_dict=None):\n",
    "    '''\n",
    "    Converts a review into a list of ids, each\n",
    "    id representing a word from the <Dataset name>-vocab.txt\n",
    "    file.\n",
    "    '''\n",
    "    return [word_dict[word] for word in text if word in word_dict]\n",
    "\n",
    "def create_review_id_csv(WORD_DICT, df, file_path, delete_id_column=True, delete_tokenized_column=True):\n",
    "    '''\n",
    "    Generates the <Dataset Name>-<set type>.txt file which\n",
    "    contains the ids and the class of a particular review.\n",
    "    '''\n",
    "    df['tokenized_review'] = df['review'].apply(preprocessor)\n",
    "    word_lookup_func = functools.partial(words_to_ids, word_dict=WORD_DICT)\n",
    "    df['review_ids'] = df['tokenized_review'].apply(word_lookup_func)\n",
    "    if delete_tokenized_column:\n",
    "        del df['tokenized_review']\n",
    "    with open(file_path, 'w') as review_id_file:\n",
    "        writer = csv.writer(review_id_file, delimiter=\"\\t\")\n",
    "        for rating, review_ids in zip(df['rating'],df['review_ids']):\n",
    "            space_separated_ids = ' '.join(review_ids)\n",
    "            writer.writerow([space_separated_ids, rating])\n",
    "    if delete_id_column:\n",
    "        del df['review_ids']  \n",
    "\n",
    "def binary_bag_of_words_vectorizer(WORD_DICT, review):\n",
    "    '''\n",
    "    Generates the binary bag of words representation of a \n",
    "    review as specified in the assignment.\n",
    "    '''\n",
    "    review_list = set(preprocessor(review))\n",
    "    vector = np.asarray([1 if key in review_list else 0 for key in WORD_DICT])\n",
    "    return vector\n",
    "\n",
    "\n",
    "def frequency_bag_of_words_vectorizer(WORD_DICT, review):\n",
    "    '''\n",
    "    Generates the frequency bag of words representation of a \n",
    "    review, as specified in the assignment. \n",
    "    '''\n",
    "    review_list = preprocessor(review)\n",
    "    review_list_top_words = [word for word in review_list if word in WORD_DICT]\n",
    "    global_occurences = len(review_list_top_words)\n",
    "    counter = Counter(review_list_top_words)\n",
    "    freq_dict = {}\n",
    "    for word in counter.keys():\n",
    "        word_occurences = counter[word]\n",
    "        frequency = float(word_occurences) / float(global_occurences)\n",
    "        freq_dict[word] = frequency\n",
    "    vector = np.asarray([freq_dict[word] if word in freq_dict else 0 for word in WORD_DICT])\n",
    "    return vector\n",
    "\n",
    "\n",
    "def get_binary_bag_vectorized_representation(WORD_DICT, df):\n",
    "    training_list = []\n",
    "    for review, rating in zip(df['review'], df['rating']):\n",
    "        review_vector = binary_bag_of_words_vectorizer(WORD_DICT, review)\n",
    "        review_vector_with_class =np.append(review_vector, rating)\n",
    "        training_list.append(review_vector_with_class)\n",
    "        \n",
    "    return np.asarray(training_list)\n",
    "\n",
    "def get_frequency_bag_vectorized_representation(WORD_DICT, df):\n",
    "    training_list = []\n",
    "    for review, rating in zip(df['review'], df['rating']):\n",
    "        review_vector = frequency_bag_of_words_vectorizer(WORD_DICT, review)\n",
    "        review_vector_with_class =np.append(review_vector, rating)\n",
    "        training_list.append(review_vector_with_class)\n",
    "    return np.asarray(training_list)\n",
    "    \n",
    "    \n"
   ]
  },
  {
   "cell_type": "markdown",
   "metadata": {},
   "source": [
    "### Helper Functions for Training/Validating Models"
   ]
  },
  {
   "cell_type": "markdown",
   "metadata": {},
   "source": [
    "#### Baseline Classifiers"
   ]
  },
  {
   "cell_type": "code",
   "execution_count": 4,
   "metadata": {
    "collapsed": true
   },
   "outputs": [],
   "source": [
    "def get_random_classifier(training_set):\n",
    "    '''\n",
    "    Will return a random choice classifier from all \n",
    "    possible labels.This assumes that the training set \n",
    "    has the class labels in the last column of a numpy \n",
    "    array. Returns a function. To classifiy, you need to\n",
    "    pass a review vector.\n",
    "    '''\n",
    "    classes = list(set(training_set[:,-1]))\n",
    "    return lambda review: random.choice(classes)\n",
    "\n",
    "def get_majority_classifier(training_set):\n",
    "    '''\n",
    "    Will always return the majority. This assumes that the\n",
    "    training set has the class labels in the last column\n",
    "    of a numpy array. Returns a function. To classifiy, \n",
    "    you need to pass a review vector.\n",
    "    '''\n",
    "    classes = training_set[:,-1]\n",
    "    counter = Counter(classes)\n",
    "    return lambda review : counter.most_common(1)[0][0]"
   ]
  },
  {
   "cell_type": "markdown",
   "metadata": {},
   "source": [
    "#### Bayes Classifiers"
   ]
  },
  {
   "cell_type": "code",
   "execution_count": 79,
   "metadata": {},
   "outputs": [],
   "source": [
    "def get_bern_bayes_classifier_f1_scores(alphas, training_set, validation_set):\n",
    "    '''\n",
    "    Returns the f1 averages for each alpha passed in \n",
    "    the method over the target training/validation set.\n",
    "    '''\n",
    "    alphas = alphas\n",
    "    f1_averages = []\n",
    "    for alpha in alphas:\n",
    "        model = BernoulliNB(alpha=alpha)\n",
    "        X = training_set[:,:-1]\n",
    "        Y = training_set[:,-1]\n",
    "        model.fit(X, Y)\n",
    "        XV = validation_set[:,:-1]\n",
    "        YV = validation_set[:,-1]\n",
    "        YPRED = model.predict(XV)\n",
    "        f1_average = np.average(f1_score(YV,YPRED,average=None))\n",
    "        f1_averages.append(f1_average)\n",
    "    return f1_averages\n",
    "\n",
    "def get_bern_bayes_classifier_f1_score(alpha, training_set, test_set):\n",
    "    model = BernoulliNB(alpha = alpha)   \n",
    "    X = training_set[:,:-1]\n",
    "    Y = training_set[:,-1]\n",
    "    model.fit(X, Y)\n",
    "    XT = test_set[:,:-1]\n",
    "    YT = test_set[:,-1]\n",
    "    YPRED = model.predict(XT)\n",
    "    return np.average(f1_score(YT,YPRED,average=None))\n",
    "\n",
    "def get_naive_bayes_classifier_f1_score(training_set, test_set):\n",
    "    model = GaussianNB()   \n",
    "    X = training_set[:,:-1]\n",
    "    Y = training_set[:,-1]\n",
    "    model.fit(X, Y)\n",
    "    XT = test_set[:,:-1]\n",
    "    YT = test_set[:,-1]\n",
    "    YPRED = model.predict(XT)\n",
    "    return np.average(f1_score(YT,YPRED,average=None))\n",
    "    \n",
    "\n"
   ]
  },
  {
   "cell_type": "markdown",
   "metadata": {},
   "source": [
    "#### Decision Tree Classifiers"
   ]
  },
  {
   "cell_type": "code",
   "execution_count": 63,
   "metadata": {
    "collapsed": true
   },
   "outputs": [],
   "source": [
    "def get_decision_tree_classifier(param_grid, training_set, validation_set):\n",
    "    dt_model = DecisionTreeClassifier()\n",
    "    \n",
    "    # Made an f1 average scorer out of f1_score\n",
    "    scorer = make_scorer(f1_average_score)\n",
    "    train_valid_set = np.concatenate([training_set,validation_set])\n",
    "    test_fold = np.concatenate([np.zeros((len(training_set),)), np.full((len(validation_set),),fill_value=-1)])\n",
    "    X = train_valid_set[:,:-1]\n",
    "    Y = train_valid_set[:,-1]\n",
    "    ps = PredefinedSplit(test_fold)\n",
    "    clf = GridSearchCV(estimator=dt_model, # use the decision tree model\n",
    "                   scoring=scorer, # use f1 score to determine the best\n",
    "                   n_jobs=-1, # parallelize as much as OS allows\n",
    "                   cv=ps, # use the predefined training/test split to determine the optimal params \n",
    "                   param_grid=param_grid, # test over the following grid\n",
    "                  )\n",
    "    clf.fit(X,Y)\n",
    "    return clf"
   ]
  },
  {
   "cell_type": "markdown",
   "metadata": {},
   "source": [
    "### SVM Classifiers"
   ]
  },
  {
   "cell_type": "code",
   "execution_count": 19,
   "metadata": {},
   "outputs": [],
   "source": [
    "def get_svm_classifier(param_grid, training_set, validation_set):\n",
    "    svm_model = LinearSVC()\n",
    "    \n",
    "    # Made an f1 average scorer out of f1_score\n",
    "    scorer = make_scorer(f1_average_score)\n",
    "    \n",
    "    train_valid_set = np.concatenate([training_set,validation_set])\n",
    "    test_fold = np.concatenate([np.zeros((len(training_set),)), np.full((len(validation_set),),fill_value=-1)])\n",
    "    X = train_valid_set[:,:-1]\n",
    "    Y = train_valid_set[:,-1]\n",
    "    ps = PredefinedSplit(test_fold)\n",
    "    clf = GridSearchCV(\n",
    "                   estimator=svm_model, # use the decision tree model\n",
    "                   scoring=scorer, # use f1 score to determine the best\n",
    "                   cv=ps, # use the predefined training/test split to determine the optimal params \n",
    "                   param_grid=param_grid, # test over the following grid\n",
    "                  )\n",
    "    clf.fit(X,Y)\n",
    "    return clf"
   ]
  },
  {
   "cell_type": "markdown",
   "metadata": {},
   "source": [
    "### Helper Functions for Metrics"
   ]
  },
  {
   "cell_type": "code",
   "execution_count": 67,
   "metadata": {
    "collapsed": true
   },
   "outputs": [],
   "source": [
    "def get_predictions(classifier, testing_set):\n",
    "    '''\n",
    "    This function will iterate through a testing set\n",
    "    and gather the predictions for that test set. This assumes\n",
    "    that the last row in the test set is the class labels, which\n",
    "    are removed and not provided as input to the classifier.\n",
    "    '''\n",
    "    predictions = [] \n",
    "    for sample in testing_set:\n",
    "        features = sample[:-1]\n",
    "        prediction = classifier(features)\n",
    "        predictions.append(prediction)\n",
    "    return np.array(predictions)\n",
    "\n",
    "def f1_average_score(y, ypred, **kwargs):\n",
    "    return np.average(f1_score(y,ypred,average=None,**kwargs))\n"
   ]
  },
  {
   "cell_type": "markdown",
   "metadata": {},
   "source": [
    "## Q1.1"
   ]
  },
  {
   "cell_type": "code",
   "execution_count": 7,
   "metadata": {
    "collapsed": true
   },
   "outputs": [],
   "source": [
    "# Creating text files for dataset submission \n",
    "create_vocab_text(imdb_df_train, 'IMDB-vocab.txt')\n",
    "create_vocab_text(yelp_df_train, 'YELP-vocab.txt')\n",
    "\n",
    "IMDB_WORD_DICT = get_word_dict_from_file('IMDB-vocab.txt')\n",
    "YELP_WORD_DICT = get_word_dict_from_file('YELP-vocab.txt')\n",
    "\n",
    "create_review_id_csv(IMDB_WORD_DICT, imdb_df_train, 'IMDB-train.txt')\n",
    "create_review_id_csv(IMDB_WORD_DICT, imdb_df_valid, 'IMDB-valid.txt')\n",
    "create_review_id_csv(IMDB_WORD_DICT, imdb_df_test, 'IMDB-test.txt')\n",
    "create_review_id_csv(YELP_WORD_DICT, yelp_df_train, 'YELP-train.txt')\n",
    "create_review_id_csv(YELP_WORD_DICT, yelp_df_valid, 'YELP-valid.txt')\n",
    "create_review_id_csv(YELP_WORD_DICT, yelp_df_test, 'YELP-test.txt')   "
   ]
  },
  {
   "cell_type": "markdown",
   "metadata": {},
   "source": [
    "## Q1.2"
   ]
  },
  {
   "cell_type": "markdown",
   "metadata": {},
   "source": [
    "Converting Yelp datasets into binary bag representation:"
   ]
  },
  {
   "cell_type": "code",
   "execution_count": 8,
   "metadata": {
    "collapsed": true
   },
   "outputs": [],
   "source": [
    "YELP_WORD_DICT = get_word_dict_from_file('YELP-vocab.txt')\n",
    "yelp_training_set = get_binary_bag_vectorized_representation(YELP_WORD_DICT, yelp_df_train)\n",
    "yelp_valid_set = get_binary_bag_vectorized_representation(YELP_WORD_DICT, yelp_df_valid)\n",
    "yelp_test_set = get_binary_bag_vectorized_representation(YELP_WORD_DICT, yelp_df_test)"
   ]
  },
  {
   "cell_type": "code",
   "execution_count": 9,
   "metadata": {},
   "outputs": [
    {
     "name": "stdout",
     "output_type": "stream",
     "text": [
      "\n",
      "Random Classifier F1 Score\n",
      "\n",
      "0.188141655581\n",
      "\n",
      "Majority Classifier F1 Score\n",
      "\n",
      "0.103923019985\n"
     ]
    },
    {
     "name": "stderr",
     "output_type": "stream",
     "text": [
      "/usr/local/lib/python2.7/site-packages/sklearn/metrics/classification.py:1135: UndefinedMetricWarning: F-score is ill-defined and being set to 0.0 in labels with no predicted samples.\n",
      "  'precision', 'predicted', average, warn_for)\n"
     ]
    }
   ],
   "source": [
    "# Initializing classifiers for baseline estimates \n",
    "majority_classifier = get_majority_classifier(yelp_training_set)\n",
    "random_classifier = get_random_classifier(yelp_training_set)\n",
    "\n",
    "# Test classes vector \n",
    "test_classes = yelp_test_set[:,-1]\n",
    "\n",
    "# Get the predictions from each baseline classifier \n",
    "random_classifier_predictions_test = get_predictions(random_classifier, yelp_test_set)\n",
    "majority_classifier_predictions_test = get_predictions(majority_classifier, yelp_test_set)\n",
    "\n",
    "# Print F1 Score for each classifier\n",
    "print(\"\\nRandom Classifier F1 Score\\n\")\n",
    "print(f1_average_score(test_classes, random_classifier_predictions_test))\n",
    "print(\"\\nMajority Classifier F1 Score\\n\")\n",
    "print(f1_average_score(test_classes, majority_classifier_predictions_test))"
   ]
  },
  {
   "cell_type": "markdown",
   "metadata": {},
   "source": [
    "### Bernoulli Naive Bayes Classifier"
   ]
  },
  {
   "cell_type": "markdown",
   "metadata": {},
   "source": [
    "#### Hyperparameter tuning over various alphas"
   ]
  },
  {
   "cell_type": "code",
   "execution_count": 18,
   "metadata": {
    "scrolled": true
   },
   "outputs": [
    {
     "data": {
      "image/png": "[encoded data removed]",
      "text/plain": [
       "<matplotlib.figure.Figure at 0x10a30ce50>"
      ]
     },
     "metadata": {},
     "output_type": "display_data"
    },
    {
     "name": "stdout",
     "output_type": "stream",
     "text": [
      "The maximum alpha was 0.18859 and the F1 average was 0.36243\n",
      "\n",
      "Alphas Tested:\n",
      "\n",
      "[  1.00000000e-10   1.60739439e-10   2.58371673e-10   4.15305179e-10\n",
      "   6.67559216e-10   1.07303094e-09   1.72478392e-09   2.77240800e-09\n",
      "   4.45635307e-09   7.16311693e-09   1.15139540e-08   1.85074651e-08\n",
      "   2.97487956e-08   4.78180472e-08   7.68624610e-08   1.23548289e-07\n",
      "   1.98590827e-07   3.19213781e-07   5.13102442e-07   8.24757988e-07\n",
      "   1.32571137e-06   2.13094102e-06   3.42526264e-06   5.50574796e-06\n",
      "   8.84990840e-06   1.42252931e-05   2.28656564e-05   3.67541279e-05\n",
      "   5.90783791e-05   9.49622553e-05   1.52641797e-04   2.45355568e-04\n",
      "   3.94383164e-04   6.33929287e-04   1.01897438e-03   1.63789371e-03\n",
      "   2.63274116e-03   4.23185338e-03   6.80225739e-03   1.09339104e-02\n",
      "   1.75751062e-02   2.82501272e-02   4.54090961e-02   7.29903265e-02\n",
      "   1.17324241e-01   1.88586328e-01   3.03132606e-01   4.87253651e-01\n",
      "   7.83208787e-01   1.25892541e+00]\n"
     ]
    }
   ],
   "source": [
    "alphas = np.logspace(-10,0.1)\n",
    "f1_scores = get_bern_bayes_classifier_f1_scores(alphas, yelp_training_set, yelp_valid_set)\n",
    "\n",
    "pyplot.scatter(alphas,f1_scores)\n",
    "pyplot.title(\"Alpha vs. F1 Score on Yelp Validation Datset\")\n",
    "pyplot.xlabel(\"Additive smoothing parameter\")\n",
    "pyplot.ylabel(\"Average F1 Score over different classes\")\n",
    "pyplot.show()\n",
    "\n",
    "max_alpha = max(zip(alphas,f1_scores),key=lambda x : x[1])\n",
    "print(\"The maximum alpha was %.5f and the F1 average was %.5f\"%max_alpha)\n",
    "print(\"\\nAlphas Tested:\\n\")\n",
    "print(alphas)\n"
   ]
  },
  {
   "cell_type": "markdown",
   "metadata": {},
   "source": [
    "#### Test set performance"
   ]
  },
  {
   "cell_type": "code",
   "execution_count": 19,
   "metadata": {},
   "outputs": [
    {
     "name": "stdout",
     "output_type": "stream",
     "text": [
      "The F1 Average on the Test Set is 0.38626\n"
     ]
    }
   ],
   "source": [
    "f1_average = get_bern_bayes_classifier_f1_score(max_alpha[0],yelp_training_set, yelp_test_set)\n",
    "print(\"The F1 Average on the Test Set is %.5f\"%(f1_average))\n"
   ]
  },
  {
   "cell_type": "markdown",
   "metadata": {},
   "source": [
    "### Decision Tree Classifier"
   ]
  },
  {
   "cell_type": "markdown",
   "metadata": {
    "collapsed": true
   },
   "source": [
    "The Scikit Learn library has a section here covering the usage of the DecisionTreeClassifier class. To summarize the following parameters are recommended for tuning:\n",
    "\n",
    "* max_depth\n",
    "* min_samples_split\n",
    "* min_samples_leaf\n",
    "\n",
    "These were the hyper parameters used for training. Since there is more than one parameter, a matrix of parameter choices will have to be covered and GridSearchCV will help to do this. GridSearchCV takes the estimator and the parameters and trains a model on each parameter. Then it will return a matrix of the optimal parameter combinations and you can also ask for the best score."
   ]
  },
  {
   "cell_type": "code",
   "execution_count": 20,
   "metadata": {},
   "outputs": [],
   "source": [
    "param_grid = {\n",
    "              'max_features':[\"auto\",\"sqrt\",\"log2\"]\n",
    "             }\n",
    "\n",
    "clf = get_decision_tree_classifier(param_grid,yelp_training_set, yelp_valid_set)\n",
    "\n"
   ]
  },
  {
   "cell_type": "code",
   "execution_count": 21,
   "metadata": {},
   "outputs": [
    {
     "name": "stdout",
     "output_type": "stream",
     "text": [
      "The best F1 score was 0.25140 and came with the parameters: {'max_features': 'auto'}\n"
     ]
    }
   ],
   "source": [
    "print(\"The best F1 score was %.5f and came with the parameters: %s\"%(clf.best_score_,clf.best_params_))"
   ]
  },
  {
   "cell_type": "markdown",
   "metadata": {},
   "source": [
    "### Linear SVM Classifier"
   ]
  },
  {
   "cell_type": "code",
   "execution_count": 57,
   "metadata": {},
   "outputs": [],
   "source": [
    "param_grid = {\n",
    "                \"C\": np.linspace(0.001,0.1,5),\n",
    "                \"tol\": np.logspace(-15,-8,3)\n",
    "             }\n",
    "svm_model = LinearSVC()\n",
    "clf = get_svm_classifier(param_grid, yelp_training_set, yelp_valid_set)\n",
    "\n"
   ]
  },
  {
   "cell_type": "code",
   "execution_count": 59,
   "metadata": {},
   "outputs": [
    {
     "name": "stdout",
     "output_type": "stream",
     "text": [
      "The best F1 score was 0.38885 and came with the parameters: {'C': 0.025750000000000002, 'tol': 1.0000000000000001e-15}\n"
     ]
    }
   ],
   "source": [
    "print(\"The best F1 score was %.5f and came with the parameters: %s\"%(clf.best_score_,clf.best_params_))"
   ]
  },
  {
   "cell_type": "markdown",
   "metadata": {},
   "source": [
    "### 1.3 "
   ]
  },
  {
   "cell_type": "markdown",
   "metadata": {},
   "source": [
    "Converting Yelp datasets using frequency bag of words representation"
   ]
  },
  {
   "cell_type": "code",
   "execution_count": 60,
   "metadata": {
    "collapsed": true
   },
   "outputs": [],
   "source": [
    "YELP_WORD_DICT = get_word_dict_from_file('YELP-vocab.txt')\n",
    "yelp_training_set_freq = get_frequency_bag_vectorized_representation(YELP_WORD_DICT, yelp_df_train)\n",
    "yelp_valid_set_freq = get_frequency_bag_vectorized_representation(YELP_WORD_DICT, yelp_df_valid)\n",
    "yelp_test_set_freq = get_frequency_bag_vectorized_representation(YELP_WORD_DICT, yelp_df_test)"
   ]
  },
  {
   "cell_type": "markdown",
   "metadata": {},
   "source": [
    "### Gaussian Naive Bayes Classifier"
   ]
  },
  {
   "cell_type": "code",
   "execution_count": 84,
   "metadata": {},
   "outputs": [
    {
     "name": "stdout",
     "output_type": "stream",
     "text": [
      "The validation score was 0.25787 and the test score was 0.25265\n"
     ]
    }
   ],
   "source": [
    "f1_score_validation = get_naive_bayes_classifier_f1_score(yelp_training_set_freq, yelp_valid_set_freq)\n",
    "f1_score_test = get_naive_bayes_classifier_f1_score(yelp_training_set_freq, yelp_test_set_freq)\n",
    "print(\"The validation score was %.5f and the test score was %.5f\"%(f1_score_test, f1_score_validation))"
   ]
  },
  {
   "cell_type": "markdown",
   "metadata": {},
   "source": [
    "### Decision Tree Classifier"
   ]
  },
  {
   "cell_type": "code",
   "execution_count": 75,
   "metadata": {},
   "outputs": [],
   "source": [
    "param_grid = {\n",
    "              'max_features':[\"auto\",\"sqrt\",\"log2\"]\n",
    "             }\n",
    "\n",
    "clf = get_decision_tree_classifier(param_grid,yelp_training_set_freq, yelp_valid_set_freq)"
   ]
  },
  {
   "cell_type": "code",
   "execution_count": 76,
   "metadata": {},
   "outputs": [
    {
     "name": "stdout",
     "output_type": "stream",
     "text": [
      "The best F1 score was 0.25323 and came with the parameters: {'max_features': 'auto'}\n"
     ]
    }
   ],
   "source": [
    "print(\"The best F1 score was %.5f and came with the parameters: %s\"%(clf.best_score_,clf.best_params_))\n"
   ]
  },
  {
   "cell_type": "markdown",
   "metadata": {},
   "source": [
    "### Linear SVM Classifier"
   ]
  },
  {
   "cell_type": "code",
   "execution_count": 87,
   "metadata": {
    "collapsed": true
   },
   "outputs": [],
   "source": [
    "param_grid = {}\n",
    "svm_model = LinearSVC()\n",
    "clf = get_svm_classifier(param_grid, yelp_training_set_freq, yelp_valid_set_freq)\n"
   ]
  },
  {
   "cell_type": "code",
   "execution_count": 88,
   "metadata": {},
   "outputs": [
    {
     "name": "stdout",
     "output_type": "stream",
     "text": [
      "The best F1 score was 0.18362 and came with the parameters: {}\n"
     ]
    }
   ],
   "source": [
    "print(\"The best F1 score was %.5f and came with the parameters: %s\"%(clf.best_score_,clf.best_params_))"
   ]
  },
  {
   "cell_type": "markdown",
   "metadata": {},
   "source": [
    "### 1.4"
   ]
  },
  {
   "cell_type": "markdown",
   "metadata": {},
   "source": [
    "Converting IMDB datasets using binary bag of words representation and frequency bag of words representation."
   ]
  },
  {
   "cell_type": "code",
   "execution_count": 90,
   "metadata": {},
   "outputs": [
    {
     "ename": "KeyboardInterrupt",
     "evalue": "",
     "output_type": "error",
     "traceback": [
      "\u001b[0;31m---------------------------------------------------------------------------\u001b[0m",
      "\u001b[0;31mKeyboardInterrupt\u001b[0m                         Traceback (most recent call last)",
      "\u001b[0;32m<ipython-input-90-09a1f38d232e>\u001b[0m in \u001b[0;36m<module>\u001b[0;34m()\u001b[0m\n\u001b[1;32m      2\u001b[0m \u001b[0mimdb_training_set\u001b[0m \u001b[0;34m=\u001b[0m \u001b[0mget_binary_bag_vectorized_representation\u001b[0m\u001b[0;34m(\u001b[0m\u001b[0mIMDB_WORD_DICT\u001b[0m\u001b[0;34m,\u001b[0m \u001b[0mimdb_df_train\u001b[0m\u001b[0;34m)\u001b[0m\u001b[0;34m\u001b[0m\u001b[0m\n\u001b[1;32m      3\u001b[0m \u001b[0mimdb_valid_set\u001b[0m \u001b[0;34m=\u001b[0m \u001b[0mget_binary_bag_vectorized_representation\u001b[0m\u001b[0;34m(\u001b[0m\u001b[0mIMDB_WORD_DICT\u001b[0m\u001b[0;34m,\u001b[0m \u001b[0mimdb_df_valid\u001b[0m\u001b[0;34m)\u001b[0m\u001b[0;34m\u001b[0m\u001b[0m\n\u001b[0;32m----> 4\u001b[0;31m \u001b[0mimdb_test_set\u001b[0m \u001b[0;34m=\u001b[0m \u001b[0mget_binary_bag_vectorized_representation\u001b[0m\u001b[0;34m(\u001b[0m\u001b[0mIMDB_WORD_DICT\u001b[0m\u001b[0;34m,\u001b[0m \u001b[0mimdb_df_test\u001b[0m\u001b[0;34m)\u001b[0m\u001b[0;34m\u001b[0m\u001b[0m\n\u001b[0m\u001b[1;32m      5\u001b[0m \u001b[0mimdb_training_set_freq\u001b[0m \u001b[0;34m=\u001b[0m \u001b[0mget_frequency_bag_vectorized_representation\u001b[0m\u001b[0;34m(\u001b[0m\u001b[0mIMDB_WORD_DICT\u001b[0m\u001b[0;34m,\u001b[0m \u001b[0mimdb_df_train\u001b[0m\u001b[0;34m)\u001b[0m\u001b[0;34m\u001b[0m\u001b[0m\n\u001b[1;32m      6\u001b[0m \u001b[0mimdb_valid_set_freq\u001b[0m \u001b[0;34m=\u001b[0m \u001b[0mget_frequency_bag_vectorized_representation\u001b[0m\u001b[0;34m(\u001b[0m\u001b[0mIMDB_WORD_DICT\u001b[0m\u001b[0;34m,\u001b[0m \u001b[0mimdb_df_valid\u001b[0m\u001b[0;34m)\u001b[0m\u001b[0;34m\u001b[0m\u001b[0m\n",
      "\u001b[0;32m<ipython-input-3-79a29639e253>\u001b[0m in \u001b[0;36mget_binary_bag_vectorized_representation\u001b[0;34m(WORD_DICT, df)\u001b[0m\n\u001b[1;32m     95\u001b[0m     \u001b[0mtraining_list\u001b[0m \u001b[0;34m=\u001b[0m \u001b[0;34m[\u001b[0m\u001b[0;34m]\u001b[0m\u001b[0;34m\u001b[0m\u001b[0m\n\u001b[1;32m     96\u001b[0m     \u001b[0;32mfor\u001b[0m \u001b[0mreview\u001b[0m\u001b[0;34m,\u001b[0m \u001b[0mrating\u001b[0m \u001b[0;32min\u001b[0m \u001b[0mzip\u001b[0m\u001b[0;34m(\u001b[0m\u001b[0mdf\u001b[0m\u001b[0;34m[\u001b[0m\u001b[0;34m'review'\u001b[0m\u001b[0;34m]\u001b[0m\u001b[0;34m,\u001b[0m \u001b[0mdf\u001b[0m\u001b[0;34m[\u001b[0m\u001b[0;34m'rating'\u001b[0m\u001b[0;34m]\u001b[0m\u001b[0;34m)\u001b[0m\u001b[0;34m:\u001b[0m\u001b[0;34m\u001b[0m\u001b[0m\n\u001b[0;32m---> 97\u001b[0;31m         \u001b[0mreview_vector\u001b[0m \u001b[0;34m=\u001b[0m \u001b[0mbinary_bag_of_words_vectorizer\u001b[0m\u001b[0;34m(\u001b[0m\u001b[0mWORD_DICT\u001b[0m\u001b[0;34m,\u001b[0m \u001b[0mreview\u001b[0m\u001b[0;34m)\u001b[0m\u001b[0;34m\u001b[0m\u001b[0m\n\u001b[0m\u001b[1;32m     98\u001b[0m         \u001b[0mreview_vector_with_class\u001b[0m \u001b[0;34m=\u001b[0m\u001b[0mnp\u001b[0m\u001b[0;34m.\u001b[0m\u001b[0mappend\u001b[0m\u001b[0;34m(\u001b[0m\u001b[0mreview_vector\u001b[0m\u001b[0;34m,\u001b[0m \u001b[0mrating\u001b[0m\u001b[0;34m)\u001b[0m\u001b[0;34m\u001b[0m\u001b[0m\n\u001b[1;32m     99\u001b[0m         \u001b[0mtraining_list\u001b[0m\u001b[0;34m.\u001b[0m\u001b[0mappend\u001b[0m\u001b[0;34m(\u001b[0m\u001b[0mreview_vector_with_class\u001b[0m\u001b[0;34m)\u001b[0m\u001b[0;34m\u001b[0m\u001b[0m\n",
      "\u001b[0;32m<ipython-input-3-79a29639e253>\u001b[0m in \u001b[0;36mbinary_bag_of_words_vectorizer\u001b[0;34m(WORD_DICT, review)\u001b[0m\n\u001b[1;32m     70\u001b[0m     '''\n\u001b[1;32m     71\u001b[0m     \u001b[0mreview_list\u001b[0m \u001b[0;34m=\u001b[0m \u001b[0mset\u001b[0m\u001b[0;34m(\u001b[0m\u001b[0mpreprocessor\u001b[0m\u001b[0;34m(\u001b[0m\u001b[0mreview\u001b[0m\u001b[0;34m)\u001b[0m\u001b[0;34m)\u001b[0m\u001b[0;34m\u001b[0m\u001b[0m\n\u001b[0;32m---> 72\u001b[0;31m     \u001b[0mvector\u001b[0m \u001b[0;34m=\u001b[0m \u001b[0mnp\u001b[0m\u001b[0;34m.\u001b[0m\u001b[0masarray\u001b[0m\u001b[0;34m(\u001b[0m\u001b[0;34m[\u001b[0m\u001b[0;36m1\u001b[0m \u001b[0;32mif\u001b[0m \u001b[0mkey\u001b[0m \u001b[0;32min\u001b[0m \u001b[0mreview_list\u001b[0m \u001b[0;32melse\u001b[0m \u001b[0;36m0\u001b[0m \u001b[0;32mfor\u001b[0m \u001b[0mkey\u001b[0m \u001b[0;32min\u001b[0m \u001b[0mWORD_DICT\u001b[0m\u001b[0;34m]\u001b[0m\u001b[0;34m)\u001b[0m\u001b[0;34m\u001b[0m\u001b[0m\n\u001b[0m\u001b[1;32m     73\u001b[0m     \u001b[0;32mreturn\u001b[0m \u001b[0mvector\u001b[0m\u001b[0;34m\u001b[0m\u001b[0m\n\u001b[1;32m     74\u001b[0m \u001b[0;34m\u001b[0m\u001b[0m\n",
      "\u001b[0;32m/usr/local/lib/python2.7/site-packages/numpy/core/numeric.pyc\u001b[0m in \u001b[0;36masarray\u001b[0;34m(a, dtype, order)\u001b[0m\n\u001b[1;32m    529\u001b[0m \u001b[0;34m\u001b[0m\u001b[0m\n\u001b[1;32m    530\u001b[0m     \"\"\"\n\u001b[0;32m--> 531\u001b[0;31m     \u001b[0;32mreturn\u001b[0m \u001b[0marray\u001b[0m\u001b[0;34m(\u001b[0m\u001b[0ma\u001b[0m\u001b[0;34m,\u001b[0m \u001b[0mdtype\u001b[0m\u001b[0;34m,\u001b[0m \u001b[0mcopy\u001b[0m\u001b[0;34m=\u001b[0m\u001b[0mFalse\u001b[0m\u001b[0;34m,\u001b[0m \u001b[0morder\u001b[0m\u001b[0;34m=\u001b[0m\u001b[0morder\u001b[0m\u001b[0;34m)\u001b[0m\u001b[0;34m\u001b[0m\u001b[0m\n\u001b[0m\u001b[1;32m    532\u001b[0m \u001b[0;34m\u001b[0m\u001b[0m\n\u001b[1;32m    533\u001b[0m \u001b[0;34m\u001b[0m\u001b[0m\n",
      "\u001b[0;31mKeyboardInterrupt\u001b[0m: "
     ]
    }
   ],
   "source": [
    "IMDB_WORD_DICT = get_word_dict_from_file('IMDB-vocab.txt')\n",
    "imdb_training_set = get_binary_bag_vectorized_representation(IMDB_WORD_DICT, imdb_df_train)\n",
    "imdb_valid_set = get_binary_bag_vectorized_representation(IMDB_WORD_DICT, imdb_df_valid)\n",
    "imdb_test_set = get_binary_bag_vectorized_representation(IMDB_WORD_DICT, imdb_df_test)\n",
    "imdb_training_set_freq = get_frequency_bag_vectorized_representation(IMDB_WORD_DICT, imdb_df_train)\n",
    "imdb_valid_set_freq = get_frequency_bag_vectorized_representation(IMDB_WORD_DICT, imdb_df_valid)\n",
    "imdb_test_set_freq = get_frequency_bag_vectorized_representation(IMDB_WORD_DICT, imdb_df_test)"
   ]
  },
  {
   "cell_type": "markdown",
   "metadata": {},
   "source": [
    "### Binary Bag of Words"
   ]
  },
  {
   "cell_type": "markdown",
   "metadata": {},
   "source": [
    "#### Bernoulli Naive Bayes"
   ]
  },
  {
   "cell_type": "code",
   "execution_count": null,
   "metadata": {
    "collapsed": true
   },
   "outputs": [],
   "source": [
    "alphas = np.logspace(-10,0.1)\n",
    "f1_scores = get_bern_bayes_classifier_f1_scores(alphas, imdb_training_set, imdb_valid_set)\n",
    "\n",
    "pyplot.scatter(alphas,f1_scores)\n",
    "pyplot.title(\"Alpha vs. F1 Score on IMDB Validation Datset\")\n",
    "pyplot.xlabel(\"Additive smoothing parameter\")\n",
    "pyplot.ylabel(\"Average F1 Score over different classes\")\n",
    "pyplot.show()\n",
    "\n",
    "max_alpha = max(zip(alphas,f1_scores),key=lambda x : x[1])\n",
    "print(\"The maximum alpha was %.5f and the F1 average was %.5f\"%max_alpha)\n",
    "print(\"\\nAlphas Tested:\\n\")\n",
    "print(alphas)"
   ]
  },
  {
   "cell_type": "markdown",
   "metadata": {},
   "source": [
    "#### Decision Trees"
   ]
  },
  {
   "cell_type": "code",
   "execution_count": null,
   "metadata": {
    "collapsed": true
   },
   "outputs": [],
   "source": [
    "param_grid = {\n",
    "              'max_features':[\"auto\",\"sqrt\",\"log2\"]\n",
    "             }\n",
    "\n",
    "clf = get_decision_tree_classifier(param_grid,imdb_training_set, imdb_valid_set)"
   ]
  },
  {
   "cell_type": "code",
   "execution_count": null,
   "metadata": {
    "collapsed": true
   },
   "outputs": [],
   "source": [
    "print(\"The best F1 score was %.5f and came with the parameters: %s\"%(clf.best_score_,clf.best_params_))"
   ]
  },
  {
   "cell_type": "markdown",
   "metadata": {},
   "source": [
    "#### Linear SVM"
   ]
  },
  {
   "cell_type": "code",
   "execution_count": null,
   "metadata": {
    "collapsed": true
   },
   "outputs": [],
   "source": [
    "param_grid = {\n",
    "                \"C\": np.linspace(0.001,0.1,5),\n",
    "                \"tol\": np.logspace(-15,-8,3)\n",
    "             }\n",
    "svm_model = LinearSVC()\n",
    "clf = get_svm_classifier(param_grid, imdb_training_set, imdb_valid_set)"
   ]
  },
  {
   "cell_type": "code",
   "execution_count": null,
   "metadata": {
    "collapsed": true
   },
   "outputs": [],
   "source": [
    "print(\"The best F1 score was %.5f and came with the parameters: %s\"%(clf.best_score_,clf.best_params_))"
   ]
  },
  {
   "cell_type": "markdown",
   "metadata": {},
   "source": [
    "### Frequency Bag of Words"
   ]
  },
  {
   "cell_type": "markdown",
   "metadata": {},
   "source": [
    "#### Gaussian Naive Bayes"
   ]
  },
  {
   "cell_type": "code",
   "execution_count": null,
   "metadata": {
    "collapsed": true
   },
   "outputs": [],
   "source": [
    "f1_score_validation = get_naive_bayes_classifier_f1_score(imdb_training_set_freq, imdb_valid_set_freq)\n",
    "f1_score_test = get_naive_bayes_classifier_f1_score(imdb_training_set_freq, imdb_test_set_freq)\n",
    "print(\"The validation score was %.5f and the test score was %.5f\"%(f1_score_test, f1_score_validation))"
   ]
  },
  {
   "cell_type": "markdown",
   "metadata": {},
   "source": [
    "#### Decision Trees"
   ]
  },
  {
   "cell_type": "code",
   "execution_count": null,
   "metadata": {
    "collapsed": true
   },
   "outputs": [],
   "source": [
    "param_grid = {\n",
    "              'max_features':[\"auto\",\"sqrt\",\"log2\"]\n",
    "             }\n",
    "\n",
    "clf = get_decision_tree_classifier(param_grid, imdb_training_set_freq, imdb_valid_set_freq)"
   ]
  },
  {
   "cell_type": "code",
   "execution_count": null,
   "metadata": {
    "collapsed": true
   },
   "outputs": [],
   "source": [
    "print(\"The best F1 score was %.5f and came with the parameters: %s\"%(clf.best_score_,clf.best_params_))"
   ]
  },
  {
   "cell_type": "markdown",
   "metadata": {},
   "source": [
    "#### Linear SVM"
   ]
  },
  {
   "cell_type": "code",
   "execution_count": null,
   "metadata": {
    "collapsed": true
   },
   "outputs": [],
   "source": [
    "param_grid = {\n",
    "                \"C\": np.linspace(0.001,0.1,5),\n",
    "                \"tol\": np.logspace(-15,-8,3)\n",
    "             }\n",
    "svm_model = LinearSVC()\n",
    "clf = get_svm_classifier(param_grid, imdb_training_set_freq, imdb_valid_set_freq)"
   ]
  },
  {
   "cell_type": "code",
   "execution_count": null,
   "metadata": {
    "collapsed": true
   },
   "outputs": [],
   "source": [
    "print(\"The best F1 score was %.5f and came with the parameters: %s\"%(clf.best_score_,clf.best_params_))"
   ]
  }
 ],
 "metadata": {
  "kernelspec": {
   "display_name": "Python 2",
   "language": "python",
   "name": "python2"
  },
  "language_info": {
   "codemirror_mode": {
    "name": "ipython",
    "version": 2
   },
   "file_extension": ".py",
   "mimetype": "text/x-python",
   "name": "python",
   "nbconvert_exporter": "python",
   "pygments_lexer": "ipython2",
   "version": "2.7.13"
  }
 },
 "nbformat": 4,
 "nbformat_minor": 2
}
