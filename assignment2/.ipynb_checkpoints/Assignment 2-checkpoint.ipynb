{
 "cells": [
  {
   "cell_type": "markdown",
   "metadata": {},
   "source": [
    "# Assignment 2 \n",
    "### COMP 551 \n",
    "### Olivier Simard-Morissette \n",
    "### 260563480 "
   ]
  },
  {
   "cell_type": "markdown",
   "metadata": {},
   "source": [
    "## Q1"
   ]
  },
  {
   "cell_type": "code",
   "execution_count": 1,
   "metadata": {
    "collapsed": true
   },
   "outputs": [],
   "source": [
    "import pandas as pd\n",
    "import numpy as np\n",
    "import matplotlib.pyplot as pyplot\n",
    "import seaborn as sns\n",
    "sns.set_palette(sns.color_palette(\"GnBu_d\"))\n",
    "%matplotlib inline\n",
    "\n",
    "\n"
   ]
  },
  {
   "cell_type": "code",
   "execution_count": 101,
   "metadata": {
    "scrolled": true
   },
   "outputs": [],
   "source": [
    "def get_mean_from_file(file_path):\n",
    "    '''\n",
    "    Opens the file provided in the instructor to retrieve the means\n",
    "    for the different distributions.\n",
    "    '''\n",
    "    with open(file_path) as file_handler:\n",
    "        # strips out last line because of extra comma in file.\n",
    "        list_of_means = file_handler.read().strip().split(',')[:-1] \n",
    "        list_of_means_float = [np.float(mean) for mean in list_of_means]\n",
    "        array_of_means = np.array(list_of_means_float)\n",
    "#         vector_of_means = array_of_means.reshape(len(array_of_means),1)\n",
    "        return array_of_means\n",
    " \n",
    "def get_covariance_matrix_from_file(file_path):\n",
    "    # strips out last column because of extra commas. \n",
    "    df_covariance = pd.read_csv(file_path, header=None)\n",
    "    del df_covariance[20]\n",
    "    return df_covariance.as_matrix()\n",
    "\n",
    "\n",
    "\n",
    "m0 = get_mean_from_file('./hwk2_datasets_corrected/DS1_m_0.txt')\n",
    "m1 = get_mean_from_file('./hwk2_datasets_corrected/DS1_m_1.txt')\n",
    "covariance_matrix = get_covariance_matrix_from_file('./hwk2_datasets_corrected/DS1_Cov.txt')\n",
    "\n",
    "m0_dataset = np.random.multivariate_normal(m0, covariance_matrix, size=2000)\n",
    "m1_dataset = np.random.multivariate_normal(m1, covariance_matrix, size=2000)\n",
    "\n",
    "# Labeling the data on the 20th column with 0 corresponding to \n",
    "# a negative example and 1 corresponding to a positive example.\n",
    "df_m0 = pd.DataFrame(m0_dataset)\n",
    "df_m0[20] = 0\n",
    "\n",
    "df_m1 = pd.DataFrame(m1_dataset)\n",
    "df_m1[20] = 1\n",
    "\n",
    "# Concatenating the two datasets into a single dataframe.\n",
    "df = pd.concat([df_m1, df_m0],ignore_index=True)\n",
    "df = df.reindex(np.random.permutation(df.index))\n",
    "\n",
    "test_df = df[:1200].reset_index(drop=True)\n",
    "train_df = df[1200:].reset_index(drop=True)\n",
    "\n",
    "test_df.to_csv('./my_dataset/DS1_test.csv')\n",
    "train_df.to_csv('./my_dataset/DS1_train.csv')\n",
    "\n"
   ]
  },
  {
   "cell_type": "code",
   "execution_count": 173,
   "metadata": {
    "scrolled": true
   },
   "outputs": [
    {
     "name": "stderr",
     "output_type": "stream",
     "text": [
      "/usr/local/lib/python2.7/site-packages/ipykernel_launcher.py:15: SettingWithCopyWarning: \n",
      "A value is trying to be set on a copy of a slice from a DataFrame\n",
      "\n",
      "See the caveats in the documentation: http://pandas.pydata.org/pandas-docs/stable/indexing.html#indexing-view-versus-copy\n",
      "  from ipykernel import kernelapp as app\n"
     ]
    }
   ],
   "source": [
    "train_matrix = train_df.as_matrix()\n",
    "\n",
    "\n",
    "def get_column_vector_means(df, class_num):\n",
    "    train_matrix_means = [] \n",
    "    class_df = df[df[20] == class_num]\n",
    "    for column in class_df:\n",
    "        if column != 20:\n",
    "            train_matrix_means.append(class_df[column].mean())\n",
    "    return np.asarray(train_matrix_means)\n",
    "\n",
    "def get_covariance_sum(df, class_num, mean_vector):\n",
    "    count = 0 \n",
    "    class_df = df[df[20] == class_num] # Only get the sum for this class. \n",
    "    class_df.drop([20], axis = 1, inplace = True) # Remove the class label \n",
    "    df_as_matrix = class_df.as_matrix() # convert to numpy array \n",
    "    # Execute summation \n",
    "    for i in range(len(df_as_matrix)):\n",
    "        mean_difference = df_as_matrix[i] - mean_vector\n",
    "        mean_diff_vector = mean_difference.reshape(len(mean_difference),1)\n",
    "        mean_diff_vector_transpose = mean_diff_vector.transpose()\n",
    "            \n",
    "\n",
    "        #df_as_matrix[i] - mean_vector\n",
    "    \n",
    "    \n",
    "    \n",
    "\n",
    "\n",
    "class_nums = (0, 1)\n",
    "class_mean_vectors = {}\n",
    "for class_num in class_nums:\n",
    "    class_mean_vector = get_column_vector_means(train_df, class_num)\n",
    "    class_mean_vectors[class_num] = class_mean_vector\n",
    "    \n",
    "\n",
    "for class_num in class_nums:\n",
    "    mean_vector = class_mean_vectors[class_num]\n",
    "    covariance_sum = get_covariance_sum(train_df, class_num, mean_vector)\n",
    "    \n",
    "    \n",
    "\n",
    "\n",
    "\n",
    "\n",
    "\n"
   ]
  },
  {
   "cell_type": "code",
   "execution_count": null,
   "metadata": {
    "collapsed": true
   },
   "outputs": [],
   "source": []
  }
 ],
 "metadata": {
  "kernelspec": {
   "display_name": "Python 2",
   "language": "python",
   "name": "python2"
  },
  "language_info": {
   "codemirror_mode": {
    "name": "ipython",
    "version": 2
   },
   "file_extension": ".py",
   "mimetype": "text/x-python",
   "name": "python",
   "nbconvert_exporter": "python",
   "pygments_lexer": "ipython2",
   "version": "2.7.13"
  }
 },
 "nbformat": 4,
 "nbformat_minor": 2
}
